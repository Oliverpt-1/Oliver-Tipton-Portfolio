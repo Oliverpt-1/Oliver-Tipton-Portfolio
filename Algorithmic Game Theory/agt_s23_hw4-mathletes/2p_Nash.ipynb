{
 "cells": [
  {
   "cell_type": "code",
   "execution_count": null,
   "id": "5e4bff20-bde7-4ea1-bed4-8b420c6b5853",
   "metadata": {
    "tags": []
   },
   "outputs": [],
   "source": [
    "import pulp\n",
    "import numpy as np\n",
    "import itertools as it"
   ]
  },
  {
   "cell_type": "code",
   "execution_count": null,
   "id": "53f7cf48-3e92-439b-80aa-27383bc7d29e",
   "metadata": {},
   "outputs": [
    {
     "name": "stdout",
     "output_type": "stream",
     "text": [
      "bach_or_stravinsky: 2 players, (2, 2) actions\n",
      "chicken: 2 players, (2, 2) actions\n",
      "five_by_five: 2 players, (5, 5) actions\n",
      "four_players: 4 players, (2, 2, 2, 2) actions\n",
      "hawk_dove: 2 players, (2, 2) actions\n",
      "matching_pennies: 2 players, (2, 2) actions\n",
      "penalty_kick: 2 players, (2, 2) actions\n",
      "pk_3_actions: 2 players, (3, 3) actions\n",
      "prisoners_dilemma: 2 players, (2, 2) actions\n",
      "robot_escape: 2 players, (2, 2) actions\n",
      "rock_paper_scissors: 2 players, (3, 3) actions\n",
      "rps_both_hate_ties: 2 players, (3, 3) actions\n",
      "rps_p1_likes_rock: 2 players, (3, 3) actions\n",
      "rps_p2_dislikes_ties: 2 players, (3, 3) actions\n",
      "two_by_three_by_four: 3 players, (2, 3, 4) actions\n"
     ]
    },
    {
     "data": {
      "text/plain": [
       "array([[0.3, 0.9, 0.8],\n",
       "       [0.6, 0.2, 0.6],\n",
       "       [0.4, 0.4, 0.1]])"
      ]
     },
     "execution_count": 13,
     "metadata": {},
     "output_type": "execute_result"
    }
   ],
   "source": [
    "games = np.load(\"games.npz\")\n",
    "for game_name in sorted(games.keys()):\n",
    "    G = games[game_name]\n",
    "    P = G.shape[-1]\n",
    "    A = G.shape[:-1]\n",
    "    print(game_name + \":\", P, \"players,\", A, \"actions\")\n",
    "pk3 = games[\"pk_3_actions\"]\n",
    "pk3[:,:,0]"
   ]
  },
  {
   "cell_type": "markdown",
   "id": "1e919f56-de9b-4b3f-9ac3-8b2014728bbc",
   "metadata": {},
   "source": [
    "We can create an LP object for this game using PULP."
   ]
  },
  {
   "cell_type": "code",
   "execution_count": null,
   "id": "22e1949f-9b45-4c2a-814b-7b5dea4bec62",
   "metadata": {},
   "outputs": [],
   "source": [
    "pk_lp = pulp.LpProblem(\"Penalty_Kick\", pulp.LpMaximize) # create LP object\n",
    "p_kl = pulp.LpVariable(\"Pr_KL\", 0, 1, pulp.LpContinuous) # lower bound = 0, upper bound = 1\n",
    "p_kr = pulp.LpVariable(\"Pr_KR\", 0, 1, pulp.LpContinuous) # lower bound = 0, upper bound = 1\n",
    "p_jl = pulp.LpVariable(\"Pr_JL\", 0, 1, pulp.LpContinuous) # lower bound = 0, upper bound = 1\n",
    "p_jr = pulp.LpVariable(\"Pr_JR\", 0, 1, pulp.LpContinuous) # lower bound = 0, upper bound = 1\n",
    "\n",
    "pk_lp += 0 # no objective necessary\n",
    "pk_lp += p_kl + p_kr == 1 # player 1's probabilities sum to 1\n",
    "pk_lp += p_jl + p_jr == 1 # player 2's probabilities sum to 1\n",
    "pk_lp += .7*p_kl + .4*p_kr == .1*p_kl + .8*p_kr # player 2 is indifferent\n",
    "pk_lp += .3*p_jl + .9*p_jr == .6*p_jl + .2*p_jr # player 1 is indifferent"
   ]
  },
  {
   "cell_type": "code",
   "execution_count": null,
   "id": "c61f0504-7fb6-4d39-be63-d59dbd06a3e9",
   "metadata": {},
   "outputs": [
    {
     "name": "stdout",
     "output_type": "stream",
     "text": [
      "Penalty_Kick:\n",
      "MAXIMIZE\n",
      "0\n",
      "SUBJECT TO\n",
      "_C1: Pr_KL + Pr_KR = 1\n",
      "\n",
      "_C2: Pr_JL + Pr_JR = 1\n",
      "\n",
      "_C3: 0.6 Pr_KL - 0.4 Pr_KR = 0\n",
      "\n",
      "_C4: - 0.3 Pr_JL + 0.7 Pr_JR = 0\n",
      "\n",
      "VARIABLES\n",
      "Pr_JL <= 1 Continuous\n",
      "Pr_JR <= 1 Continuous\n",
      "Pr_KL <= 1 Continuous\n",
      "Pr_KR <= 1 Continuous\n",
      "\n"
     ]
    }
   ],
   "source": [
    "print(pk_lp)"
   ]
  },
  {
   "cell_type": "markdown",
   "id": "c83435aa-dc7a-4fd4-9962-06aa314e1577",
   "metadata": {},
   "source": [
    "And after we call the LP-solver, we can check the status, where +1 indicates that it found a solution and -1 indicates that it didn't."
   ]
  },
  {
   "cell_type": "code",
   "execution_count": null,
   "id": "29437854-c0bd-4879-9cf9-93113a6dbfa7",
   "metadata": {},
   "outputs": [
    {
     "name": "stdout",
     "output_type": "stream",
     "text": [
      "found equilibrium: [0.4 0.6 0.7 0.3]\n"
     ]
    }
   ],
   "source": [
    "pk_lp.solve(solver=pulp.PULP_CBC_CMD(msg=0)) # solve quietly\n",
    "if pk_lp.status == 1:\n",
    "    profile = np.zeros(4)\n",
    "    profile[0] = p_kl.varValue\n",
    "    profile[1] = p_kr.varValue\n",
    "    profile[2] = p_jl.varValue\n",
    "    profile[3] = p_jr.varValue\n",
    "    print(\"found equilibrium:\", profile)\n",
    "else:\n",
    "    print(\"couldn't find an equilibrium\")"
   ]
  },
  {
   "cell_type": "code",
   "execution_count": null,
   "id": "26cea930-87a8-4038-a96e-064df07e21bd",
   "metadata": {},
   "outputs": [],
   "source": [
    "def build_profile(action_prob_LP_vars):\n",
    "    profile = np.zeros(len(action_prob_LP_vars))\n",
    "    for a,prob_var in enumerate(action_prob_LP_vars):\n",
    "        profile[a] = prob_var.varValue\n",
    "    return profile"
   ]
  },
  {
   "cell_type": "code",
   "execution_count": null,
   "id": "de52f5c3-6952-4eef-9ab7-28f24630000a",
   "metadata": {},
   "outputs": [],
   "source": [
    "def nonempty_subsets(S):\n",
    "    return it.chain.from_iterable(it.combinations(S, a+1) for a in range(len(S)))"
   ]
  },
  {
   "cell_type": "markdown",
   "id": "de0de456-4d05-43d7-b593-6a4737fb6260",
   "metadata": {
    "tags": []
   },
   "source": [
    "Generalize the approach demonstrated above to identify and return a Nash equilibrium in any 2-player game by searching over supports. A good rule of thumb is to start with small, balanced support sets."
   ]
  },
  {
   "cell_type": "code",
   "execution_count": 19,
   "id": "0f6366e8-3e83-4af8-9592-a26de481e661",
   "metadata": {},
   "outputs": [],
   "source": [
    "def two_player_Nash_LP(game):\n",
    "    num_actions_p1 = game.shape[0]\n",
    "    num_actions_p2 = game.shape[1]\n",
    "    util_p1 = []\n",
    "    util_p2 = []\n",
    "    \n",
    "    \n",
    "    p1_prob_vars = [pulp.LpVariable(\"P1_A\" + str(a), 0, 1, pulp.LpContinuous) for a in range(num_actions_p1)]\n",
    "    p2_prob_vars = [pulp.LpVariable(\"P2_A\" + str(a), 0, 1, pulp.LpContinuous) for a in range(num_actions_p2)]\n",
    "    all_prob_vars = p1_prob_vars + p2_prob_vars\n",
    "    \n",
    "    \n",
    "\n",
    "    for a in range(num_actions_p1):\n",
    "        util_p1.append(pulp.lpSum(pay*var for pay,var in zip(game[a,:,0], p2_prob_vars)))\n",
    "    for a in range(num_actions_p2):\n",
    "        util_p2.append(pulp.lpSum(pay*var for pay,var in zip(game[:,a,1], p1_prob_vars)))   \n",
    "        \n",
    "    for p1_support, p2_support in it.product(nonempty_subsets(range(num_actions_p1)), nonempty_subsets(range(num_actions_p2))):\n",
    "        twoP_game = pulp.LpProblem(\"G\", pulp.LpMaximize)\n",
    "        twoP_game += 0\n",
    "        twoP_game += pulp.lpSum(p1_prob_vars) == 1 \n",
    "        twoP_game += pulp.lpSum(p2_prob_vars) == 1 \n",
    "        first_action_p1 = p1_support[0]\n",
    "        first_action_p2 = p2_support[0]\n",
    "        for p1_a in range(num_actions_p1):\n",
    "            if p1_a in p1_support and p1_a != first_action_p1:\n",
    "                twoP_game += util_p1[first_action_p1] == util_p1[p1_a]\n",
    "            elif p1_a != first_action_p1:\n",
    "                twoP_game += p1_prob_vars[p1_a] == 0\n",
    "                twoP_game += util_p1[first_action_p1] >= util_p1[p1_a]\n",
    "        for p2_a in range(num_actions_p2):\n",
    "            if p2_a in p2_support and p2_a != first_action_p2:\n",
    "                twoP_game += util_p2[first_action_p2] == util_p2[p2_a]\n",
    "            elif p2_a != first_action_p2:\n",
    "                twoP_game += p2_prob_vars[p2_a] == 0\n",
    "                twoP_game += util_p2[first_action_p2] >= util_p2[p2_a]\n",
    "        twoP_game.solve(solver=pulp.PULP_CBC_CMD(msg=0))\n",
    "        if twoP_game.status == 1:\n",
    "            profile = build_profile(all_prob_vars)\n",
    "            return profile\n",
    "            \n",
    "    "
   ]
  },
  {
   "cell_type": "code",
   "execution_count": 20,
   "id": "cd91f8ed-d915-401b-9938-9ac2056a87c3",
   "metadata": {},
   "outputs": [
    {
     "data": {
      "text/plain": [
       "array([0.4, 0.6, 0. , 0.7, 0.3, 0. ])"
      ]
     },
     "execution_count": 20,
     "metadata": {},
     "output_type": "execute_result"
    }
   ],
   "source": [
    "two_player_Nash_LP(pk3)"
   ]
  },
  {
   "cell_type": "code",
   "execution_count": null,
   "id": "93c492ae-c345-4fb9-8e56-27cdbe3d98ed",
   "metadata": {},
   "outputs": [],
   "source": []
  },
  {
   "cell_type": "code",
   "execution_count": null,
   "id": "3e541a11-c4ad-480b-ba6e-2e45b18c1581",
   "metadata": {},
   "outputs": [],
   "source": []
  },
  {
   "cell_type": "code",
   "execution_count": null,
   "id": "3d8de321-6caf-4d6a-957e-ba5b5792eb0b",
   "metadata": {},
   "outputs": [],
   "source": []
  }
 ],
 "metadata": {
  "kernelspec": {
   "display_name": "Python 3",
   "language": "python",
   "name": "python3"
  },
  "language_info": {
   "codemirror_mode": {
    "name": "ipython",
    "version": 3
   },
   "file_extension": ".py",
   "mimetype": "text/x-python",
   "name": "python",
   "nbconvert_exporter": "python",
   "pygments_lexer": "ipython3",
   "version": "3.12.4 (main, Jun  6 2024, 18:26:44) [Clang 15.0.0 (clang-1500.3.9.4)]"
  },
  "vscode": {
   "interpreter": {
    "hash": "b0fa6594d8f4cbf19f97940f81e996739fb7646882a419484c72d19e05852a7e"
   }
  }
 },
 "nbformat": 4,
 "nbformat_minor": 5
}
