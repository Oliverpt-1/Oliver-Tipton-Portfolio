{
 "cells": [
  {
   "cell_type": "code",
   "execution_count": 20,
   "id": "c3532539-c8e3-4a68-b799-e1c73d548d1a",
   "metadata": {},
   "outputs": [],
   "source": [
    "def get_max_revenue(n, prices):\n",
    "    opt_cache = [-1] * (n+1)\n",
    "    opt_cache[1] = prices[0]\n",
    "    return helper(n, prices, opt_cache)\n",
    "\n",
    "def helper(n, prices, opt_cache):\n",
    "    # If we have already solved this subproblem, return its solution\n",
    "    if opt_cache[n] != -1:\n",
    "        return opt_cache[n]\n",
    "\n",
    "    # Use each subproblem to get the solution\n",
    "    max_revenue = prices[n-1]\n",
    "    for cut in range(1, (n//2) + 1):\n",
    "        sub_revenue = helper(cut, prices, opt_cache) + helper(n-cut, prices, opt_cache)\n",
    "        max_revenue = max(sub_revenue, max_revenue)\n",
    "\n",
    "    # Store solution in cache and return it\n",
    "    opt_cache[n] = max_revenue\n",
    "    return max_revenue\n"
   ]
  },
  {
   "cell_type": "code",
   "execution_count": 22,
   "id": "f18ed317-cd87-4158-95dc-5efb33ae8c28",
   "metadata": {},
   "outputs": [
    {
     "name": "stdout",
     "output_type": "stream",
     "text": [
      "17\n"
     ]
    }
   ],
   "source": [
    "print(get_max_revenue(7, [1,2,8,9,10,1,1]))"
   ]
  },
  {
   "cell_type": "code",
   "execution_count": 24,
   "id": "f5eeaf63-6d6a-46ef-936b-3c7712085e27",
   "metadata": {},
   "outputs": [
    {
     "name": "stdout",
     "output_type": "stream",
     "text": [
      "4.98\n"
     ]
    }
   ],
   "source": [
    "print(get_max_revenue(5, [.01,1.99,2.99, 4, .01]))"
   ]
  },
  {
   "cell_type": "code",
   "execution_count": null,
   "id": "31419321-e07b-45eb-a9b3-3766ca754965",
   "metadata": {},
   "outputs": [],
   "source": []
  }
 ],
 "metadata": {
  "kernelspec": {
   "display_name": "Python 3.8",
   "language": "python",
   "name": "python3"
  },
  "language_info": {
   "codemirror_mode": {
    "name": "ipython",
    "version": 3
   },
   "file_extension": ".py",
   "mimetype": "text/x-python",
   "name": "python",
   "nbconvert_exporter": "python",
   "pygments_lexer": "ipython3",
   "version": "3.8.6"
  }
 },
 "nbformat": 4,
 "nbformat_minor": 5
}
