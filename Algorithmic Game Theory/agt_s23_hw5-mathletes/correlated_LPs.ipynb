{
 "cells": [
  {
   "cell_type": "code",
   "execution_count": 1,
   "id": "5e4bff20-bde7-4ea1-bed4-8b420c6b5853",
   "metadata": {},
   "outputs": [],
   "source": [
    "import pulp\n",
    "import numpy as np\n",
    "np.set_printoptions(formatter={'float': lambda x: \"{0:0.5f}\".format(x)})\n",
    "from copy import copy"
   ]
  },
  {
   "cell_type": "code",
   "execution_count": 2,
   "id": "53f7cf48-3e92-439b-80aa-27383bc7d29e",
   "metadata": {},
   "outputs": [
    {
     "name": "stdout",
     "output_type": "stream",
     "text": [
      "bach_or_stravinsky: 2 players, (2, 2) actions\n",
      "chicken: 2 players, (2, 2) actions\n",
      "five_by_five: 2 players, (5, 5) actions\n",
      "four_players: 4 players, (2, 2, 2, 2) actions\n",
      "hawk_dove: 2 players, (2, 2) actions\n",
      "matching_pennies: 2 players, (2, 2) actions\n",
      "penalty_kick: 2 players, (2, 2) actions\n",
      "pk_3_actions: 2 players, (3, 3) actions\n",
      "prisoners_dilemma: 2 players, (2, 2) actions\n",
      "robot_escape: 2 players, (2, 2) actions\n",
      "rock_paper_scissors: 2 players, (3, 3) actions\n",
      "rps_both_hate_ties: 2 players, (3, 3) actions\n",
      "rps_p1_likes_rock: 2 players, (3, 3) actions\n",
      "rps_p2_dislikes_ties: 2 players, (3, 3) actions\n",
      "two_by_three_by_four: 3 players, (2, 3, 4) actions\n"
     ]
    }
   ],
   "source": [
    "games = np.load(\"games.npz\")\n",
    "for game_name in sorted(games.keys()):\n",
    "    G = games[game_name]\n",
    "    P = G.shape[-1]\n",
    "    A = G.shape[:-1]\n",
    "    print(game_name + \":\", P, \"players,\", A, \"actions\")"
   ]
  },
  {
   "cell_type": "code",
   "execution_count": 3,
   "id": "d62c1577",
   "metadata": {},
   "outputs": [
    {
     "name": "stdout",
     "output_type": "stream",
     "text": [
      "[[-100    1]\n",
      " [  -1    0]]\n",
      "[[-100   -1]\n",
      " [   1    0]]\n"
     ]
    }
   ],
   "source": [
    "chicken = games[\"chicken\"]\n",
    "for p in range(chicken.shape[-1]):\n",
    "    print(chicken[:,:,p])"
   ]
  },
  {
   "cell_type": "markdown",
   "id": "1e919f56-de9b-4b3f-9ac3-8b2014728bbc",
   "metadata": {},
   "source": [
    "The following linear program finds the correlated equilibrium of chicken that's __worst__ for player 1."
   ]
  },
  {
   "cell_type": "code",
   "execution_count": 4,
   "id": "bcf12568",
   "metadata": {},
   "outputs": [
    {
     "name": "stdout",
     "output_type": "stream",
     "text": [
      "chicken_CE:\n",
      "MINIMIZE\n",
      "-100*Pr_GG + 1*Pr_GS + -1*Pr_SG + 0\n",
      "SUBJECT TO\n",
      "_C1: Pr_GG + Pr_GS + Pr_SG + Pr_SS = 1\n",
      "\n",
      "_C2: - 99 Pr_GG + Pr_GS >= 0\n",
      "\n",
      "_C3: 99 Pr_SG - Pr_SS >= 0\n",
      "\n",
      "_C4: - 99 Pr_GG + Pr_SG >= 0\n",
      "\n",
      "_C5: Pr_GS + 101 Pr_SS >= 0\n",
      "\n",
      "VARIABLES\n",
      "Pr_GG <= 1 Continuous\n",
      "Pr_GS <= 1 Continuous\n",
      "Pr_SG <= 1 Continuous\n",
      "Pr_SS <= 1 Continuous\n",
      "\n",
      "Found correlated equilibrium:\n",
      "[[0.00000 0.00000]\n",
      " [1.00000 0.00000]]\n"
     ]
    }
   ],
   "source": [
    "CE_lp = pulp.LpProblem(\"chicken_CE\", pulp.LpMinimize)\n",
    "p_GG = pulp.LpVariable(\"Pr_GG\", 0, 1)\n",
    "p_GS = pulp.LpVariable(\"Pr_GS\", 0, 1)\n",
    "p_SG = pulp.LpVariable(\"Pr_SG\", 0, 1)\n",
    "p_SS = pulp.LpVariable(\"Pr_SS\", 0, 1)\n",
    "\n",
    "CE_lp += p_GG + p_GS + p_SG + p_SS == 1 # probabilities sum to 1\n",
    "\n",
    "# add constraints for: each player, each action they might be told to play, and each deviation to a different action\n",
    "p = 0; a = 0; d = 1\n",
    "CE_lp += p_GG*chicken[a,0,p] + p_GS*chicken[a,1,p] >= p_GG*chicken[d,0,p] + p_GS*chicken[d,1,p] # G better than S for P1 when told to play G\n",
    "a = 1; d = 0\n",
    "CE_lp += p_SG*chicken[a,0,p] + p_SS*chicken[a,1,p] >= p_SG*chicken[d,0,p] + p_SS*chicken[d,1,p] # S better than G for P1 when told to play S\n",
    "p = 1; a = 0; d = 1\n",
    "CE_lp += p_GG*chicken[0,a,p] + p_SG*chicken[1,a,p] >= p_GG*chicken[0,d,p] + p_GS*chicken[1,d,p] # G better than S for P2 when told to play G\n",
    "a = 1; d = 0\n",
    "CE_lp += p_SS*chicken[a,0,p] + p_GS*chicken[a,1,p] >= p_SS*chicken[d,0,p] + p_GS*chicken[d,1,p] # S better than G for P2 when told to play S\n",
    "\n",
    "distr_vars = np.array([[p_GG, p_GS], [p_SG, p_SS]])\n",
    "u1_D = pulp.lpSum(distr_vars * chicken[:,:,0])\n",
    "u2_D = pulp.lpSum(distr_vars * chicken[:,:,1])\n",
    "CE_lp += u1_D\n",
    "\n",
    "print(CE_lp)\n",
    "CE_lp.solve(solver=pulp.PULP_CBC_CMD(msg=0))\n",
    "CE = np.zeros([2,2])\n",
    "for i in np.ndindex(CE.shape):\n",
    "    CE[i] = distr_vars[i].varValue\n",
    "\n",
    "print(\"Found correlated equilibrium:\")\n",
    "print(CE)"
   ]
  },
  {
   "cell_type": "markdown",
   "id": "1dcf0c96",
   "metadata": {},
   "source": [
    "The following linear program finds the coarse correlated equilibrium of chicken that's __worst__ for player 2.\n",
    "\n",
    "Note that the version in the in-class activity had a couple of typos!"
   ]
  },
  {
   "cell_type": "code",
   "execution_count": 5,
   "id": "615c956e",
   "metadata": {},
   "outputs": [
    {
     "name": "stdout",
     "output_type": "stream",
     "text": [
      "chicken_CCE:\n",
      "MINIMIZE\n",
      "-100*Pr_GG + -1*Pr_GS + 1*Pr_SG + 0\n",
      "SUBJECT TO\n",
      "_C1: Pr_GG + Pr_GS + Pr_SG + Pr_SS = 1\n",
      "\n",
      "_C2: 0 Pr_GG + 0 Pr_GS + 99 Pr_SG - Pr_SS >= 0\n",
      "\n",
      "_C3: - 99 Pr_GG + Pr_GS + 0 Pr_SG >= 0\n",
      "\n",
      "_C4: 0 Pr_GG + 99 Pr_GS + 0 Pr_SG - Pr_SS >= 0\n",
      "\n",
      "_C5: - 99 Pr_GG + 0 Pr_GS + Pr_SG >= 0\n",
      "\n",
      "VARIABLES\n",
      "Pr_GG <= 1 Continuous\n",
      "Pr_GS <= 1 Continuous\n",
      "Pr_SG <= 1 Continuous\n",
      "Pr_SS <= 1 Continuous\n",
      "\n",
      "Found correlated equilibrium:\n",
      "[[0.00000 1.00000]\n",
      " [0.00000 0.00000]]\n"
     ]
    }
   ],
   "source": [
    "CCE_lp1 = pulp.LpProblem(\"chicken_CCE\", pulp.LpMinimize)\n",
    "\n",
    "CCE_lp1 += p_GG + p_GS + p_SG + p_SS == 1 # probabilities sum to 1\n",
    "\n",
    "# add constraints for: each player and each action they might deviate to\n",
    "p = 0; a = 0\n",
    "CCE_lp1 += u1_D >= (p_GG+p_SG)*chicken[a,0,p] + (p_GS+p_SS)*chicken[a,1,p] # Distr better than G for P1\n",
    "a = 1\n",
    "CCE_lp1 += u1_D >= (p_GG+p_SG)*chicken[a,0,p] + (p_GS+p_SS)*chicken[a,1,p] # Distr better than S for P1\n",
    "p = 1; a = 0\n",
    "CCE_lp1 += u2_D >= (p_GG+p_GS)*chicken[0,a,p] + (p_SG+p_SS)*chicken[1,a,p] # Distr better than G for P2\n",
    "a = 1\n",
    "CCE_lp1 += u2_D >= (p_GG+p_GS)*chicken[0,a,p] + (p_SG+p_SS)*chicken[1,a,p] # Distr better than G for P2\n",
    "\n",
    "CCE_lp1 += u2_D\n",
    "\n",
    "print(CCE_lp1)\n",
    "CCE_lp1.solve(solver=pulp.PULP_CBC_CMD(msg=0))\n",
    "CCE = np.zeros([2,2])\n",
    "for i in np.ndindex(CCE.shape):\n",
    "    CCE[i] = distr_vars[i].varValue\n",
    "\n",
    "print(\"Found correlated equilibrium:\")\n",
    "print(CCE)"
   ]
  },
  {
   "cell_type": "markdown",
   "id": "0ded57c7",
   "metadata": {},
   "source": [
    "The following linear program for finding a coarse correlated equilibrium in chicken should be equivalent to the one above, but demonstrates a few techniques that might be helpful for generalizing it."
   ]
  },
  {
   "cell_type": "code",
   "execution_count": 30,
   "id": "22d7b199",
   "metadata": {},
   "outputs": [
    {
     "name": "stdout",
     "output_type": "stream",
     "text": [
      "chicken_CCE:\n",
      "MINIMIZE\n",
      "-100*q_00 + -1*q_01 + 1*q_10 + 0\n",
      "SUBJECT TO\n",
      "_C1: q_00 + q_01 + q_10 + q_11 = 1\n",
      "\n",
      "_C2: 0 q_00 + 0 q_01 + 99 q_10 - q_11 >= 0\n",
      "\n",
      "_C3: - 99 q_00 + q_01 + 0 q_10 >= 0\n",
      "\n",
      "_C4: 0 q_00 + 99 q_01 + 0 q_10 - q_11 >= 0\n",
      "\n",
      "_C5: - 99 q_00 + 0 q_01 + q_10 >= 0\n",
      "\n",
      "VARIABLES\n",
      "q_00 <= 1 Continuous\n",
      "q_01 <= 1 Continuous\n",
      "q_10 <= 1 Continuous\n",
      "q_11 <= 1 Continuous\n",
      "\n",
      "Found coarse correlated equilibrium:\n",
      "[[0.00000 1.00000]\n",
      " [0.00000 0.00000]]\n"
     ]
    }
   ],
   "source": [
    "CCE_lp2 = pulp.LpProblem(\"chicken_CCE\", pulp.LpMinimize)\n",
    "\n",
    "# could re-use the variables from above, but this demonstrates another approach\n",
    "distr_vars = np.empty(chicken.shape[:-1], dtype=pulp.LpVariable)\n",
    "for outcome_tuple in np.ndindex(chicken.shape[:-1]):\n",
    "    distr_vars[outcome_tuple] = pulp.LpVariable(\"q_\" + \"\".join(str(a) for a in outcome_tuple), 0, 1)\n",
    "\n",
    "CCE_lp2 += pulp.lpSum(distr_vars) == 1 # probabilities sum to 1\n",
    "\n",
    "u1_D = pulp.lpSum(distr_vars * chicken[:,:,0])\n",
    "u2_D = pulp.lpSum(distr_vars * chicken[:,:,1])\n",
    "\n",
    "CCE_lp2 += u2_D # minimize p2's utility\n",
    "\n",
    "\n",
    "p1_beliefs = [pulp.lpSum(distr_vars[:,p2_act]) for p2_act in range(2)]\n",
    "p1_opp_outcomes = [list(outcome_tuple) for outcome_tuple in np.ndindex(chicken.shape[1:2])]\n",
    "for p1_act in range(2):\n",
    "    indices = [tuple([p1_act] + o + [0]) for o in p1_opp_outcomes]\n",
    "    CCE_lp2 += u1_D >= pulp.lpSum(prob * chicken[out] for prob,out in zip(p1_beliefs,indices))\n",
    "\n",
    "p2_beliefs = [pulp.lpSum(distr_vars[p1_act,:]) for p1_act in range(2)]\n",
    "p2_opp_outcomes = [list(outcome_tuple) for outcome_tuple in np.ndindex(chicken.shape[0:1])]\n",
    "for p2_act in range(2):\n",
    "    indices = [tuple(o + [p2_act, 1]) for o in p2_opp_outcomes]\n",
    "    CCE_lp2 += u2_D >= pulp.lpSum(prob * chicken[out] for prob,out in zip(p2_beliefs,indices))\n",
    "\n",
    "print(CCE_lp2)\n",
    "CCE_lp2.solve(solver=pulp.PULP_CBC_CMD(msg=0))\n",
    "CCE = np.zeros([2,2])\n",
    "for i in np.ndindex(CCE.shape):\n",
    "    CCE[i] = distr_vars[i].varValue\n",
    "\n",
    "print(\"Found coarse correlated equilibrium:\")\n",
    "print(CCE)"
   ]
  },
  {
   "cell_type": "markdown",
   "id": "968d053f",
   "metadata": {},
   "source": [
    "Generalize the linear programming approaches illustrated above to compute a correlated or coarse corrleated equilibrium in an arbitrary normal-form game. In each case, you should find the equilibrium that __maximizes total utility__."
   ]
  },
  {
   "cell_type": "code",
   "execution_count": 8,
   "id": "1e4af4b2",
   "metadata": {},
   "outputs": [],
   "source": [
    "def correlated_equilibrium(game):\n",
    "    \n",
    "    num_players = game.shape[-1]\n",
    "    CE_lp = pulp.LpProblem(\"CE_LP\", pulp.LpMaximize)\n",
    "    vars_arr = np.array(np.empty(game.shape[:-1], dtype = object))\n",
    "    \n",
    "    for index in np.ndindex(vars_arr.shape):\n",
    "        var_name = \"q\"+\"\".join(map(str, index))\n",
    "        vars_arr[index] = pulp.LpVariable(var_name, 0, 1)\n",
    "        \n",
    "    CE_lp += vars_arr.sum() == 1\n",
    "    \n",
    "    for p in range(num_players):\n",
    "        for a in range(game.shape[p]):\n",
    "            var_ind = [slice(None)]* num_players\n",
    "            var_ind[p] = a\n",
    "            pay_ind = [slice(None)]* (num_players + 1)\n",
    "            pay_ind[-1] = p\n",
    "            for d in range(game.shape[p]):\n",
    "                if d != a:\n",
    "                    pay_ind[p] = a\n",
    "                    deviate_ind = copy(pay_ind)\n",
    "                    deviate_ind[p] = d\n",
    "                    \n",
    "                    CE_lp += (vars_arr[tuple(var_ind)] * game[tuple(pay_ind)]).sum() >= (vars_arr[tuple(var_ind)] * game[tuple(deviate_ind)]).sum()\n",
    "    \n",
    "    objective = 0\n",
    "    for p in range(num_players):\n",
    "        ind = [slice(None)] * (num_players + 1)\n",
    "        ind[-1] = p\n",
    "        objective += pulp.lpSum(vars_arr * game[ind])\n",
    "    CE_lp += objective\n",
    "\n",
    "    CE_lp.solve(solver=pulp.PULP_CBC_CMD(msg=0))\n",
    "    CE = np.zeros(vars_arr.shape)\n",
    "    for i in np.ndindex(CE.shape):\n",
    "        CE[i] = vars_arr[i].varValue\n",
    "        \n",
    "    return CE"
   ]
  },
  {
   "cell_type": "code",
   "execution_count": 10,
   "id": "e1733279",
   "metadata": {},
   "outputs": [],
   "source": [
    "def coarse_correlated_equilibrium(game):\n",
    "    num_players = game.shape[-1]\n",
    "    CCE_lp = pulp.LpProblem(\"CCE_LP\", pulp.LpMinimize)\n",
    "    vars_arr = np.array(np.empty(game.shape[:-1], dtype = object))\n",
    "    for index in np.ndindex(vars_arr.shape):\n",
    "        var_name = \"q\"+\"\".join(map(str, index))\n",
    "        vars_arr[index] = pulp.LpVariable(var_name, 0, 1)\n",
    "        \n",
    "    \n",
    "    CCE_lp += vars_arr.sum() == 1\n",
    "    \n",
    "    for p in range(num_players):\n",
    "        ind = [slice(None)] * (num_players + 1)\n",
    "        ind[-1] = p\n",
    "        cur_play_util = pulp.lpSum(vars_arr * game[tuple(ind)])\n",
    "        ind = [slice(None)]* num_players\n",
    "        for p_act in range(game.shape[p]):\n",
    "            ind[p] = p_act\n",
    "            belief = [pulp.lpSum(vars_arr[tuple(ind)])]\n",
    "        opp_outcomes = [list(outcome_tuple) for outcome_tuple in np.ndindex(game.shape[p])]\n",
    "        for p_act in range(game.shape[p]):\n",
    "            indices = [tuple([p_act] + o + [0]) for o in opp_outcomes]\n",
    "            CCE_lp += cur_play_util >= pulp.lpSum(prob * game[tuple(out)] for prob,out in zip(belief,indices))\n",
    "    \n",
    "    objective = 0        \n",
    "    for p in range(num_players):\n",
    "        ind = [slice(None)] * (num_players + 1)\n",
    "        ind[-1] = p\n",
    "        objective += pulp.lpSum(vars_arr * game[tuple(ind)])\n",
    "        \n",
    "    CCE_lp += objective\n",
    "\n",
    "    CCE_lp.solve(solver=pulp.PULP_CBC_CMD(msg=0))\n",
    "    \n",
    "    CCE = np.zeros(vars_arr.shape)\n",
    "    for i in np.ndindex(CCE.shape):\n",
    "        CCE[i] = vars_arr[i].varValue\n",
    "\n",
    "    return CCE\n"
   ]
  }
 ],
 "metadata": {
  "kernelspec": {
   "display_name": "Python 3.8",
   "language": "python",
   "name": "python3"
  },
  "language_info": {
   "codemirror_mode": {
    "name": "ipython",
    "version": 3
   },
   "file_extension": ".py",
   "mimetype": "text/x-python",
   "name": "python",
   "nbconvert_exporter": "python",
   "pygments_lexer": "ipython3",
   "version": "3.8.6"
  },
  "vscode": {
   "interpreter": {
    "hash": "aee8b7b246df8f9039afb4144a1f6fd8d2ca17a180786b69acc140d282b71a49"
   }
  }
 },
 "nbformat": 4,
 "nbformat_minor": 5
}
