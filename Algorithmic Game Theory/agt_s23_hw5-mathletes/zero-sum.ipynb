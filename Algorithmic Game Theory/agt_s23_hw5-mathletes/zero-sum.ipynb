{
 "cells": [
  {
   "cell_type": "code",
   "execution_count": 4,
   "id": "5e4bff20-bde7-4ea1-bed4-8b420c6b5853",
   "metadata": {},
   "outputs": [],
   "source": [
    "import pulp\n",
    "import numpy as np"
   ]
  },
  {
   "cell_type": "code",
   "execution_count": 18,
   "id": "53f7cf48-3e92-439b-80aa-27383bc7d29e",
   "metadata": {},
   "outputs": [
    {
     "name": "stdout",
     "output_type": "stream",
     "text": [
      "bach_or_stravinsky: 2 players, (2, 2) actions\n",
      "chicken: 2 players, (2, 2) actions\n",
      "five_by_five: 2 players, (5, 5) actions\n",
      "four_players: 4 players, (2, 2, 2, 2) actions\n",
      "hawk_dove: 2 players, (2, 2) actions\n",
      "matching_pennies: 2 players, (2, 2) actions\n",
      "penalty_kick: 2 players, (2, 2) actions\n",
      "pk_3_actions: 2 players, (3, 3) actions\n",
      "prisoners_dilemma: 2 players, (2, 2) actions\n",
      "robot_escape: 2 players, (2, 2) actions\n",
      "rock_paper_scissors: 2 players, (3, 3) actions\n",
      "rps_both_hate_ties: 2 players, (3, 3) actions\n",
      "rps_p1_likes_rock: 2 players, (3, 3) actions\n",
      "rps_p2_dislikes_ties: 2 players, (3, 3) actions\n",
      "two_by_three_by_four: 3 players, (2, 3, 4) actions\n"
     ]
    }
   ],
   "source": [
    "games = np.load(\"games.npz\")\n",
    "for game_name in sorted(games.keys()):\n",
    "    G = games[game_name]\n",
    "    P = G.shape[-1]\n",
    "    A = G.shape[:-1]\n",
    "    print(game_name + \":\", P, \"players,\", A, \"actions\")"
   ]
  },
  {
   "cell_type": "code",
   "execution_count": 19,
   "id": "d62c1577",
   "metadata": {},
   "outputs": [
    {
     "name": "stdout",
     "output_type": "stream",
     "text": [
      "[[0.3 0.9]\n",
      " [0.6 0.2]]\n",
      "[[0.7 0.1]\n",
      " [0.4 0.8]]\n"
     ]
    }
   ],
   "source": [
    "pk = games[\"penalty_kick\"]\n",
    "pk_p1_pays = pk[:,:,0]\n",
    "pk_p2_pays = pk[:,:,1]\n",
    "print(pk_p1_pays)\n",
    "print(pk_p2_pays)"
   ]
  },
  {
   "cell_type": "markdown",
   "id": "25f760a6",
   "metadata": {},
   "source": [
    "The penalty kick game is zero-sum because we can apply a positive affine transformation to player 2's payoffs that makes them equal to -(player 1's payoffs)."
   ]
  },
  {
   "cell_type": "code",
   "execution_count": 7,
   "id": "0bcbc791",
   "metadata": {},
   "outputs": [
    {
     "name": "stdout",
     "output_type": "stream",
     "text": [
      "True\n"
     ]
    }
   ],
   "source": [
    "pk_p2_transformed = 1*pk_p2_pays - 1\n",
    "print(np.allclose(-pk_p1_pays, pk_p2_transformed))"
   ]
  },
  {
   "cell_type": "markdown",
   "id": "1b669f8a",
   "metadata": {},
   "source": [
    "The check_zero_sum function should check whether there is a positive affine transformation (m,b) such that `m*u_2 + b = -u_1`. If such a transformation exists, return (m,b); otherwise return None."
   ]
  },
  {
   "cell_type": "code",
   "execution_count": 8,
   "id": "f6b479f9",
   "metadata": {},
   "outputs": [],
   "source": [
    "def check_zero_sum(game):\n",
    "    assert game.ndim == 3, \"check_zero_sum() only works on 2-player games.\"\n",
    "\n",
    "    #TODO: implement this function\n",
    "\n",
    "    return None"
   ]
  },
  {
   "cell_type": "code",
   "execution_count": 9,
   "id": "347f45ba",
   "metadata": {},
   "outputs": [
    {
     "name": "stdout",
     "output_type": "stream",
     "text": [
      "[[0.3 0.9 0.8]\n",
      " [0.6 0.2 0.6]\n",
      " [0.4 0.4 0.1]]\n",
      "[[0.7 0.1 0.2]\n",
      " [0.4 0.8 0.4]\n",
      " [0.6 0.6 0.9]]\n"
     ]
    }
   ],
   "source": [
    "pk3 = games[\"pk_3_actions\"]\n",
    "print(pk3[:,:,0])\n",
    "print(pk3[:,:,1])"
   ]
  },
  {
   "cell_type": "markdown",
   "id": "1e919f56-de9b-4b3f-9ac3-8b2014728bbc",
   "metadata": {},
   "source": [
    "The following linear programs identify Nash equilibrium strategies for both players in the 3-action penalty kick game."
   ]
  },
  {
   "cell_type": "code",
   "execution_count": 10,
   "id": "bcf12568",
   "metadata": {},
   "outputs": [
    {
     "name": "stdout",
     "output_type": "stream",
     "text": [
      "Penalty_Kick:\n",
      "MINIMIZE\n",
      "1*v_2 + 0\n",
      "SUBJECT TO\n",
      "_C1: Pr_KL + Pr_KR + Pr_KS = 1\n",
      "\n",
      "_C2: - 0.7 Pr_KL - 0.4 Pr_KR - 0.6 Pr_KS + v_2 >= 0\n",
      "\n",
      "_C3: - 0.1 Pr_KL - 0.8 Pr_KR - 0.6 Pr_KS + v_2 >= 0\n",
      "\n",
      "_C4: - 0.2 Pr_KL - 0.4 Pr_KR - 0.9 Pr_KS + v_2 >= 0\n",
      "\n",
      "VARIABLES\n",
      "Pr_KL <= 1 Continuous\n",
      "Pr_KR <= 1 Continuous\n",
      "Pr_KS <= 1 Continuous\n",
      "v_2 free Continuous\n",
      "\n"
     ]
    }
   ],
   "source": [
    "p1_lp = pulp.LpProblem(\"Penalty_Kick\", pulp.LpMinimize) # create LP object\n",
    "p_kl = pulp.LpVariable(\"Pr_KL\", 0, 1) # lower bound = 0, upper bound = 1\n",
    "p_kr = pulp.LpVariable(\"Pr_KR\", 0, 1) # lower bound = 0, upper bound = 1\n",
    "p_ks = pulp.LpVariable(\"Pr_KS\", 0, 1) # lower bound = 0, upper bound = 1\n",
    "v2 = pulp.LpVariable(\"v_2\") # no upper/lower bounds on utility\n",
    "\n",
    "p1_lp += v2\n",
    "p1_lp += p_kl + p_kr + p_ks == 1\n",
    "p1_lp += v2 >= pk3[0,0,1]*p_kl + pk3[1,0,1]*p_kr + pk3[2,0,1]*p_ks\n",
    "p1_lp += v2 >= pk3[0,1,1]*p_kl + pk3[1,1,1]*p_kr + pk3[2,1,1]*p_ks\n",
    "p1_lp += v2 >= pk3[0,2,1]*p_kl + pk3[1,2,1]*p_kr + pk3[2,2,1]*p_ks\n",
    "print(p1_lp)\n"
   ]
  },
  {
   "cell_type": "code",
   "execution_count": 11,
   "id": "22d7b199",
   "metadata": {},
   "outputs": [
    {
     "name": "stdout",
     "output_type": "stream",
     "text": [
      "Penalty_Kick:\n",
      "MINIMIZE\n",
      "1*v_1 + 0\n",
      "SUBJECT TO\n",
      "_C1: Pr_DJ + Pr_JL + Pr_JR = 1\n",
      "\n",
      "_C2: - 0.8 Pr_DJ - 0.3 Pr_JL - 0.9 Pr_JR + v_1 >= 0\n",
      "\n",
      "_C3: - 0.6 Pr_DJ - 0.6 Pr_JL - 0.2 Pr_JR + v_1 >= 0\n",
      "\n",
      "_C4: - 0.1 Pr_DJ - 0.4 Pr_JL - 0.4 Pr_JR + v_1 >= 0\n",
      "\n",
      "VARIABLES\n",
      "Pr_DJ <= 1 Continuous\n",
      "Pr_JL <= 1 Continuous\n",
      "Pr_JR <= 1 Continuous\n",
      "v_1 free Continuous\n",
      "\n"
     ]
    }
   ],
   "source": [
    "\n",
    "p2_lp = pulp.LpProblem(\"Penalty_Kick\", pulp.LpMinimize) # create LP object\n",
    "p2_vars = [pulp.LpVariable(\"Pr_\" + a, 0, 1) for a in [\"JL\",\"JR\",\"DJ\"]]\n",
    "v1 = pulp.LpVariable(\"v_1\")\n",
    "\n",
    "p2_lp += v1\n",
    "p2_lp += pulp.lpSum(p2_vars) == 1\n",
    "for a in range(3):\n",
    "    p2_lp += v1 >= pulp.lpSum(prob*util for prob,util in zip(p2_vars, pk3[a,:,0]))\n",
    "print(p2_lp)"
   ]
  },
  {
   "cell_type": "code",
   "execution_count": 40,
   "id": "ba94583f",
   "metadata": {},
   "outputs": [
    {
     "name": "stdout",
     "output_type": "stream",
     "text": [
      "[array([0.4, 0.6, 0. ]), array([0.7, 0.3, 0. ])]\n"
     ]
    }
   ],
   "source": [
    "p1_lp.solve(solver=pulp.PULP_CBC_CMD(msg=0))\n",
    "p1_strat = np.array([p_kl.varValue, p_kr.varValue, p_ks.varValue])\n",
    "\n",
    "p2_lp.solve(solver=pulp.PULP_CBC_CMD(msg=0))\n",
    "p2_strat = np.array([v.varValue for v in p2_vars])\n",
    "\n",
    "prof = [p1_strat, p2_strat]\n",
    "print(prof)"
   ]
  },
  {
   "cell_type": "markdown",
   "id": "de0de456-4d05-43d7-b593-6a4737fb6260",
   "metadata": {},
   "source": [
    "Generalize the approach demonstrated above to identify and return a Nash equilibrium in any 2-player zero-sum game."
   ]
  },
  {
   "cell_type": "code",
   "execution_count": 41,
   "id": "0f6366e8-3e83-4af8-9592-a26de481e661",
   "metadata": {},
   "outputs": [],
   "source": [
    "def two_player_zero_sum_Nash(game):\n",
    "    assert game.ndim == 3, \"two_player_zero_sum_Nash() only works on 2-player games.\"\n",
    "    \n",
    "    actions_p1 = game.shape[0]\n",
    "    actions_p2 = game.shape[1]\n",
    "    \n",
    "    \n",
    "    p1_lp = pulp.LpProblem(\"Game\", pulp.LpMinimize) # create LP object\n",
    "    p1_vars = [pulp.LpVariable(\"A_\" + str(a), 0, 1) for a in range(actions_p1)]\n",
    "    v2 = pulp.LpVariable(\"v_2\")\n",
    "\n",
    "    p1_lp += v2\n",
    "    p1_lp += pulp.lpSum(p1_vars) == 1\n",
    "    for a in range(actions_p1):\n",
    "        p1_lp += v2 >= pulp.lpSum(prob*util for prob,util in zip(p1_vars, pk3[:,a,0]))\n",
    "        \n",
    "        \n",
    "    p2_lp = pulp.LpProblem(\"Game\", pulp.LpMinimize) # create LP object\n",
    "    p2_vars = [pulp.LpVariable(\"A_\" + str(a), 0, 1) for a in range(actions_p2)]\n",
    "    v1 = pulp.LpVariable(\"v_1\")\n",
    "\n",
    "    p2_lp += v1\n",
    "    p2_lp += pulp.lpSum(p2_vars) == 1\n",
    "    for a in range(actions_p2):\n",
    "        p2_lp += v1 >= pulp.lpSum(prob*util for prob,util in zip(p2_vars, pk3[a,:,1]))\n",
    "                       \n",
    "               \n",
    "    p1_lp.solve(solver=pulp.PULP_CBC_CMD(msg=0))\n",
    "    p1_strat = np.array([v.varValue for v in p1_vars])\n",
    "               \n",
    "    p2_lp.solve(solver=pulp.PULP_CBC_CMD(msg=0))\n",
    "    p2_strat = np.array([v.varValue for v in p2_vars])\n",
    "\n",
    "    prof = [p1_strat, p2_strat]\n",
    "               \n",
    "    return prof"
   ]
  },
  {
   "cell_type": "code",
   "execution_count": null,
   "id": "a4804bbc-5f95-49a8-8838-013a13f5c1e7",
   "metadata": {},
   "outputs": [],
   "source": []
  }
 ],
 "metadata": {
  "kernelspec": {
   "display_name": "Python 3.8",
   "language": "python",
   "name": "python3"
  },
  "language_info": {
   "codemirror_mode": {
    "name": "ipython",
    "version": 3
   },
   "file_extension": ".py",
   "mimetype": "text/x-python",
   "name": "python",
   "nbconvert_exporter": "python",
   "pygments_lexer": "ipython3",
   "version": "3.8.6"
  },
  "vscode": {
   "interpreter": {
    "hash": "aee8b7b246df8f9039afb4144a1f6fd8d2ca17a180786b69acc140d282b71a49"
   }
  }
 },
 "nbformat": 4,
 "nbformat_minor": 5
}
