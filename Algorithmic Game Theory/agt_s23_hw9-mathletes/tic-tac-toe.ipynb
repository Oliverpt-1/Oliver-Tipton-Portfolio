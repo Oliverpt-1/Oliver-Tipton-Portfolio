{
 "cells": [
  {
   "cell_type": "code",
   "execution_count": 2,
   "metadata": {},
   "outputs": [],
   "source": [
    "import numpy as np\n",
    "from random import choice"
   ]
  },
  {
   "cell_type": "code",
   "execution_count": 3,
   "metadata": {},
   "outputs": [],
   "source": [
    "class TicTacToeNode:\n",
    "    def __init__(self, prev=None, move=None):\n",
    "        if prev is None:\n",
    "            self.board = np.zeros([3,3], dtype=int)\n",
    "            self.player = 0\n",
    "        else:\n",
    "            self.board = prev.board.copy()\n",
    "            self.player = 1-prev.player\n",
    "            if self.player == 0:\n",
    "                self.board[tuple(move)] = 1\n",
    "            else:\n",
    "                self.board[tuple(move)] = -1\n",
    "        w = self.winner()\n",
    "        if w is None:\n",
    "            self.is_terminal = False\n",
    "            self.utility = None\n",
    "            self.legal_moves = list(zip(*np.nonzero(np.logical_not(self.board))))\n",
    "        else:\n",
    "            self.is_terminal = True\n",
    "            self.utility = (w, -w)\n",
    "            self.legal_moves = []\n",
    "\n",
    "    def winner(self):\n",
    "        \"\"\"returns 1 if p1 has won, -1 if p2 has won, 0 if draw, and None otherwise\"\"\"\n",
    "        if np.any(self.board.sum(axis=0) == 3):\n",
    "            return 1\n",
    "        if np.any(self.board.sum(axis=1) == 3):\n",
    "            return 1\n",
    "        if np.sum(self.board * np.eye(3, dtype=int)) == 3:\n",
    "            return 1\n",
    "        if np.sum(self.board.T * np.eye(3, dtype=int)) == 3:\n",
    "            return 1\n",
    "        if np.any(self.board.sum(axis=0) == -3):\n",
    "            return -1\n",
    "        if np.any(self.board.sum(axis=1) == -3):\n",
    "            return -1\n",
    "        if np.sum(self.board * np.eye(3, dtype=int)) == -3:\n",
    "            return -1\n",
    "        if np.sum(self.board.T * np.eye(3, dtype=int)) == -3:\n",
    "            return -1\n",
    "        if np.any(self.board == 0):\n",
    "            return None\n",
    "        return 0\n",
    "    \n",
    "    def __repr__(self):\n",
    "        s = \"\"\n",
    "        for r in range(3):\n",
    "            for c in range(3):\n",
    "                if self.board[r,c] == 1:\n",
    "                    s += \" X \"\n",
    "                elif self.board[r,c] == -1:\n",
    "                    s += \" O \"\n",
    "                else:\n",
    "                    s += \"   \"\n",
    "                if c < 2:\n",
    "                    s += \"|\"\n",
    "            if r < 2:\n",
    "                s += \"\\n---|---|---\\n\"\n",
    "        return s"
   ]
  },
  {
   "cell_type": "code",
   "execution_count": 4,
   "metadata": {},
   "outputs": [
    {
     "name": "stdout",
     "output_type": "stream",
     "text": [
      "   |   |   \n",
      "---|---|---\n",
      "   |   |   \n",
      "---|---|---\n",
      "   |   |   \n",
      "[(0, 0), (0, 1), (0, 2), (1, 0), (1, 1), (1, 2), (2, 0), (2, 1), (2, 2)]\n",
      "   |   | O \n",
      "---|---|---\n",
      "   |   |   \n",
      "---|---|---\n",
      "   |   |   \n",
      "[(0, 0), (0, 1), (1, 0), (1, 1), (1, 2), (2, 0), (2, 1), (2, 2)]\n",
      "   |   | O \n",
      "---|---|---\n",
      "   | X |   \n",
      "---|---|---\n",
      "   |   |   \n",
      "[(0, 0), (0, 1), (1, 0), (1, 2), (2, 0), (2, 1), (2, 2)]\n",
      "   |   | O \n",
      "---|---|---\n",
      "   | X |   \n",
      "---|---|---\n",
      "   | O |   \n",
      "[(0, 0), (0, 1), (1, 0), (1, 2), (2, 0), (2, 2)]\n",
      "   |   | O \n",
      "---|---|---\n",
      "   | X |   \n",
      "---|---|---\n",
      " X | O |   \n",
      "[(0, 0), (0, 1), (1, 0), (1, 2), (2, 2)]\n",
      "   |   | O \n",
      "---|---|---\n",
      "   | X |   \n",
      "---|---|---\n",
      " X | O | O \n",
      "[(0, 0), (0, 1), (1, 0), (1, 2)]\n",
      "   | X | O \n",
      "---|---|---\n",
      "   | X |   \n",
      "---|---|---\n",
      " X | O | O \n",
      "[(0, 0), (1, 0), (1, 2)]\n",
      "   | X | O \n",
      "---|---|---\n",
      "   | X | O \n",
      "---|---|---\n",
      " X | O | O \n",
      "(-1, 1)\n"
     ]
    }
   ],
   "source": [
    "root = TicTacToeNode()\n",
    "node = root\n",
    "while not node.is_terminal:\n",
    "    print(node)\n",
    "    print(node.legal_moves)\n",
    "    move = choice(node.legal_moves)\n",
    "    node = TicTacToeNode(node, move)\n",
    "print(node)\n",
    "print(node.utility)"
   ]
  },
  {
   "cell_type": "markdown",
   "metadata": {},
   "source": [
    "Your task is to prove that the subgame perfect equilibrium of Tic-Tac-Toe is a draw."
   ]
  },
  {
   "cell_type": "code",
   "execution_count": 5,
   "metadata": {},
   "outputs": [],
   "source": [
    "def back_induction(node):\n",
    "    util = []\n",
    "    if node.is_terminal:\n",
    "        return node.utility\n",
    "    for move in node.legal_moves:\n",
    "        childNode = TicTacToeNode(node, move)\n",
    "        util.append(back_induction(childNode))\n",
    "    return max(util, key = lambda x:x[node.player])\n",
    "    "
   ]
  },
  {
   "cell_type": "code",
   "execution_count": 6,
   "metadata": {},
   "outputs": [
    {
     "data": {
      "text/plain": [
       "(0, 0)"
      ]
     },
     "execution_count": 6,
     "metadata": {},
     "output_type": "execute_result"
    }
   ],
   "source": [
    "root = TicTacToeNode()\n",
    "node = root\n",
    "back_induction(node)"
   ]
  },
  {
   "cell_type": "code",
   "execution_count": null,
   "metadata": {},
   "outputs": [],
   "source": []
  }
 ],
 "metadata": {
  "kernelspec": {
   "display_name": "Python 3.8",
   "language": "python",
   "name": "python3"
  },
  "language_info": {
   "codemirror_mode": {
    "name": "ipython",
    "version": 3
   },
   "file_extension": ".py",
   "mimetype": "text/x-python",
   "name": "python",
   "nbconvert_exporter": "python",
   "pygments_lexer": "ipython3",
   "version": "3.8.6"
  }
 },
 "nbformat": 4,
 "nbformat_minor": 4
}
